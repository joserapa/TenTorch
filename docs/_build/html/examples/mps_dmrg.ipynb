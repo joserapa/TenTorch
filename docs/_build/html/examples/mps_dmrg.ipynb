{
 "cells": [
  {
   "cell_type": "markdown",
   "metadata": {},
   "source": [
    "# DMRG-like training of MPS\n",
    "\n",
    "Here we show how one can use MPS models to train via DMRG, as shown in\n",
    "[[SS16']](https://arxiv.org/abs/1605.05775)."
   ]
  },
  {
   "cell_type": "code",
   "execution_count": null,
   "metadata": {},
   "outputs": [],
   "source": [
    "%mkdir data\n",
    "%mkdir models"
   ]
  },
  {
   "cell_type": "code",
   "execution_count": 1,
   "metadata": {},
   "outputs": [],
   "source": [
    "import torch\n",
    "import torch.nn as nn\n",
    "import torch.optim as optim\n",
    "from torch.utils.data import DataLoader\n",
    "\n",
    "import torchvision.transforms as transforms\n",
    "import torchvision.datasets as datasets\n",
    "\n",
    "import matplotlib.pyplot as plt\n",
    "\n",
    "import tensorkrowch as tk"
   ]
  },
  {
   "cell_type": "code",
   "execution_count": 2,
   "metadata": {},
   "outputs": [
    {
     "data": {
      "text/plain": [
       "device(type='cuda', index=0)"
      ]
     },
     "execution_count": 2,
     "metadata": {},
     "output_type": "execute_result"
    }
   ],
   "source": [
    "device = torch.device('cpu')\n",
    "\n",
    "if torch.cuda.is_available():\n",
    "    device = torch.device('cuda:0')\n",
    "elif torch.backends.mps.is_available():\n",
    "    device = torch.device('mps:0')\n",
    "else:\n",
    "    device = torch.device('cpu')\n",
    "\n",
    "device"
   ]
  },
  {
   "cell_type": "markdown",
   "metadata": {},
   "source": [
    "## Dataset"
   ]
  },
  {
   "cell_type": "code",
   "execution_count": 3,
   "metadata": {},
   "outputs": [],
   "source": [
    "# MNIST Dataset\n",
    "dataset_name = 'mnist'\n",
    "batch_size = 64\n",
    "image_size = 15\n",
    "input_size = image_size ** 2\n",
    "num_classes = 10\n",
    "\n",
    "transform = transforms.Compose([transforms.ToTensor(),\n",
    "                                transforms.Resize(image_size, antialias=True),\n",
    "                               ])\n",
    "\n",
    "# Load data\n",
    "train_dataset = datasets.MNIST(root='data/',\n",
    "                               train=True,\n",
    "                               transform=transform,\n",
    "                               download=True)\n",
    "test_dataset = datasets.MNIST(root='data/',\n",
    "                              train=False,\n",
    "                              transform=transform,\n",
    "                              download=True)\n",
    "\n",
    "train_loader = DataLoader(dataset=train_dataset,\n",
    "                          batch_size=batch_size,\n",
    "                          shuffle=True)\n",
    "test_loader = DataLoader(dataset=test_dataset,\n",
    "                         batch_size=batch_size,\n",
    "                         shuffle=True)"
   ]
  },
  {
   "cell_type": "code",
   "execution_count": 4,
   "metadata": {},
   "outputs": [
    {
     "data": {
      "image/png": "[encoded data removed]",
      "text/plain": [
       "<Figure size 640x480 with 1 Axes>"
      ]
     },
     "metadata": {},
     "output_type": "display_data"
    },
    {
     "name": "stdout",
     "output_type": "stream",
     "text": [
      "2\n"
     ]
    }
   ],
   "source": [
    "random_sample = torch.randint(low=0, high=len(train_dataset), size=(1,)).item()\n",
    "\n",
    "plt.imshow(train_dataset[random_sample][0].squeeze(0), cmap='Greys')\n",
    "plt.show()\n",
    "\n",
    "print(train_dataset[random_sample][1])"
   ]
  },
  {
   "cell_type": "markdown",
   "metadata": {},
   "source": [
    "## Define model"
   ]
  },
  {
   "cell_type": "code",
   "execution_count": 5,
   "metadata": {},
   "outputs": [],
   "source": [
    "class MPS_DMRG(tk.models.MPSLayer):\n",
    "    \n",
    "    def __init__(self, *args, **kwargs):\n",
    "        super().__init__(*args, **kwargs)\n",
    "        \n",
    "        self.parameterize(set_param=False, override=True)\n",
    "        \n",
    "        self.out_node.get_axis('input').name = 'output'\n",
    "        \n",
    "        self.block_position = None\n",
    "        self.block_length = None\n",
    "    \n",
    "    @property\n",
    "    def block(self):\n",
    "        if self.block_position is not None:\n",
    "            return self.mats_env[self.block_position]\n",
    "        return None\n",
    "    \n",
    "    def merge_block(self, block_position, block_length):\n",
    "        if block_position + block_length > self.n_features:\n",
    "            raise ValueError(\n",
    "                f'Last position of the block ({block_position + block_length}) '\n",
    "                f'exceeds the range of MPS sites ({self.n_features})')\n",
    "        elif block_length < 1:\n",
    "            raise ValueError(\n",
    "                '`block_length` should be greater than or equal to 1')\n",
    "        \n",
    "        if self.block_position is not None:\n",
    "            raise ValueError(\n",
    "                'Cannot create block if there is already a merged block')\n",
    "        \n",
    "        block_nodes = self.mats_env[block_position:(block_position + block_length)]\n",
    "        \n",
    "        block = block_nodes[0]\n",
    "        for node in block_nodes[1:]:\n",
    "            block = tk.contract_between_(block, node)\n",
    "        block = block.parameterize(True)\n",
    "        block.name = 'block'\n",
    "        \n",
    "        self.block_position = block_position\n",
    "        self.block_length = block_length\n",
    "        self._mats_env = self._mats_env[:block_position] + [block] + \\\n",
    "            self._mats_env[(block_position + block_length):]\n",
    "        \n",
    "    def unmerge_block(self, side='right', rank=None, cum_percentage=None):\n",
    "        block = self.block\n",
    "        \n",
    "        block_nodes = []\n",
    "        for i in range(self.block_length - 1):\n",
    "            node1_axes = block.axes[:2]\n",
    "            node2_axes = block.axes[2:]\n",
    "                \n",
    "            node, block = tk.split_(block,\n",
    "                                    node1_axes,\n",
    "                                    node2_axes,\n",
    "                                    side=side,\n",
    "                                    rank=rank,\n",
    "                                    cum_percentage=cum_percentage)\n",
    "            block.get_axis('split').name = 'left'\n",
    "            node.get_axis('split').name = 'right'\n",
    "            node.name = f'mats_env_({self.block_position + i})'\n",
    "            \n",
    "            block_nodes.append(node)\n",
    "            \n",
    "        block.name = f'mats_env_({self.block_position + i + 1})'\n",
    "        block_nodes.append(block)\n",
    "        \n",
    "        self._mats_env = self._mats_env[:self.block_position] + block_nodes + \\\n",
    "            self._mats_env[(self.block_position + 1):]\n",
    "        \n",
    "        self.block_position = None\n",
    "        self.block_length = None\n",
    "    \n",
    "    def contract(self):\n",
    "        result_mats = []\n",
    "        for node in self.mats_env:\n",
    "            while any(['input' in name for name in node.axes_names]):\n",
    "                for axis in node.axes:\n",
    "                    if 'input' in axis.name:\n",
    "                        data_node = node.neighbours(axis)\n",
    "                        node = node @ data_node\n",
    "                        break\n",
    "            result_mats.append(node)\n",
    "        \n",
    "        result_mats = [self.left_node] + result_mats + [self.right_node]\n",
    "        \n",
    "        result = result_mats[0]\n",
    "        for node in result_mats[1:]:\n",
    "            result @= node\n",
    "        \n",
    "        return result"
   ]
  },
  {
   "cell_type": "code",
   "execution_count": 7,
   "metadata": {},
   "outputs": [],
   "source": [
    "# Model hyperparameters\n",
    "embedding_dim = 2\n",
    "output_dim = num_classes\n",
    "bond_dim = 50\n",
    "init_method = 'unit'\n",
    "block_length = 2\n",
    "cum_percentage = 0.98"
   ]
  },
  {
   "cell_type": "code",
   "execution_count": 17,
   "metadata": {},
   "outputs": [],
   "source": [
    "# Initialize network\n",
    "model_name = 'mps_dmrg'\n",
    "mps = MPS_DMRG(n_features=input_size + 1,\n",
    "               in_dim=embedding_dim,\n",
    "               out_dim=num_classes,\n",
    "               bond_dim=bond_dim,\n",
    "               boundary='obc',\n",
    "               init_method=init_method,\n",
    "               device=device)\n",
    "\n",
    "# Important to set data nodes before merging nodes\n",
    "mps.set_data_nodes()"
   ]
  },
  {
   "cell_type": "code",
   "execution_count": 13,
   "metadata": {},
   "outputs": [],
   "source": [
    "def embedding(x):\n",
    "    x = tk.embeddings.unit(x, dim=embedding_dim)\n",
    "    return x"
   ]
  },
  {
   "cell_type": "markdown",
   "metadata": {},
   "source": [
    "## Train"
   ]
  },
  {
   "cell_type": "code",
   "execution_count": 18,
   "metadata": {},
   "outputs": [],
   "source": [
    "# Hyperparameters\n",
    "learning_rate = 1e-3\n",
    "weight_decay = 1e-8\n",
    "num_epochs = 100\n",
    "move_block_epochs = 100\n",
    "\n",
    "# Loss and optimizer\n",
    "criterion = nn.CrossEntropyLoss()"
   ]
  },
  {
   "cell_type": "code",
   "execution_count": 19,
   "metadata": {},
   "outputs": [],
   "source": [
    "# Check accuracy on training & test to see how good our model is\n",
    "def check_accuracy(loader, model):\n",
    "    num_correct = 0\n",
    "    num_samples = 0\n",
    "    model.eval()\n",
    "    \n",
    "    with torch.no_grad():\n",
    "        for x, y in loader:\n",
    "            x = x.to(device)\n",
    "            y = y.to(device)\n",
    "            x = x.reshape(x.shape[0], -1)\n",
    "            \n",
    "            scores = model(embedding(x))\n",
    "            _, predictions = scores.max(1)\n",
    "            num_correct += (predictions == y).sum()\n",
    "            num_samples += predictions.size(0)\n",
    "        \n",
    "        accuracy = float(num_correct) / float(num_samples) * 100\n",
    "    model.train()\n",
    "    return accuracy"
   ]
  },
  {
   "cell_type": "code",
   "execution_count": 20,
   "metadata": {},
   "outputs": [
    {
     "name": "stdout",
     "output_type": "stream",
     "text": [
      "* Epoch 1   (block_position=9, direction=1)=> Train. Acc.: 12.75, Test Acc.: 13.15\n",
      "* Epoch 2   (block_position=18, direction=1)=> Train. Acc.: 12.88, Test Acc.: 13.35\n",
      "* Epoch 3   (block_position=27, direction=1)=> Train. Acc.: 13.07, Test Acc.: 13.63\n",
      "* Epoch 4   (block_position=36, direction=1)=> Train. Acc.: 13.25, Test Acc.: 13.20\n",
      "* Epoch 5   (block_position=45, direction=1)=> Train. Acc.: 15.93, Test Acc.: 15.27\n",
      "* Epoch 6   (block_position=54, direction=1)=> Train. Acc.: 17.78, Test Acc.: 16.93\n",
      "* Epoch 7   (block_position=63, direction=1)=> Train. Acc.: 18.97, Test Acc.: 17.51\n",
      "* Epoch 8   (block_position=72, direction=1)=> Train. Acc.: 21.57, Test Acc.: 18.85\n",
      "* Epoch 9   (block_position=81, direction=1)=> Train. Acc.: 22.80, Test Acc.: 19.67\n",
      "* Epoch 10  (block_position=90, direction=1)=> Train. Acc.: 24.91, Test Acc.: 21.50\n",
      "* Epoch 11  (block_position=99, direction=1)=> Train. Acc.: 27.40, Test Acc.: 23.48\n",
      "* Epoch 12  (block_position=108, direction=1)=> Train. Acc.: 29.46, Test Acc.: 25.31\n",
      "* Epoch 13  (block_position=117, direction=1)=> Train. Acc.: 38.99, Test Acc.: 33.37\n",
      "* Epoch 14  (block_position=126, direction=1)=> Train. Acc.: 41.44, Test Acc.: 35.75\n",
      "* Epoch 15  (block_position=135, direction=1)=> Train. Acc.: 44.87, Test Acc.: 38.75\n",
      "* Epoch 16  (block_position=144, direction=1)=> Train. Acc.: 47.04, Test Acc.: 41.17\n",
      "* Epoch 17  (block_position=153, direction=1)=> Train. Acc.: 48.40, Test Acc.: 41.93\n",
      "* Epoch 18  (block_position=162, direction=1)=> Train. Acc.: 49.52, Test Acc.: 42.38\n",
      "* Epoch 19  (block_position=171, direction=1)=> Train. Acc.: 50.02, Test Acc.: 42.80\n",
      "* Epoch 20  (block_position=180, direction=1)=> Train. Acc.: 50.37, Test Acc.: 43.01\n",
      "* Epoch 21  (block_position=189, direction=1)=> Train. Acc.: 50.22, Test Acc.: 42.90\n",
      "* Epoch 22  (block_position=198, direction=1)=> Train. Acc.: 50.56, Test Acc.: 43.45\n",
      "* Epoch 23  (block_position=207, direction=1)=> Train. Acc.: 50.45, Test Acc.: 43.09\n",
      "* Epoch 24  (block_position=216, direction=1)=> Train. Acc.: 50.38, Test Acc.: 43.32\n",
      "* Epoch 25  (block_position=223, direction=-1)=> Train. Acc.: 50.67, Test Acc.: 43.13\n",
      "* Epoch 26  (block_position=214, direction=-1)=> Train. Acc.: 50.41, Test Acc.: 43.18\n",
      "* Epoch 27  (block_position=205, direction=-1)=> Train. Acc.: 50.31, Test Acc.: 42.80\n",
      "* Epoch 28  (block_position=196, direction=-1)=> Train. Acc.: 50.62, Test Acc.: 43.36\n",
      "* Epoch 29  (block_position=187, direction=-1)=> Train. Acc.: 50.35, Test Acc.: 43.42\n",
      "* Epoch 30  (block_position=178, direction=-1)=> Train. Acc.: 50.87, Test Acc.: 43.31\n",
      "* Epoch 31  (block_position=169, direction=-1)=> Train. Acc.: 51.33, Test Acc.: 43.28\n",
      "* Epoch 32  (block_position=160, direction=-1)=> Train. Acc.: 51.49, Test Acc.: 42.85\n",
      "* Epoch 33  (block_position=151, direction=-1)=> Train. Acc.: 52.19, Test Acc.: 43.20\n",
      "* Epoch 34  (block_position=142, direction=-1)=> Train. Acc.: 52.50, Test Acc.: 43.21\n",
      "* Epoch 35  (block_position=133, direction=-1)=> Train. Acc.: 53.17, Test Acc.: 43.05\n",
      "* Epoch 36  (block_position=124, direction=-1)=> Train. Acc.: 54.22, Test Acc.: 43.48\n",
      "* Epoch 37  (block_position=115, direction=-1)=> Train. Acc.: 55.39, Test Acc.: 44.47\n",
      "* Epoch 38  (block_position=106, direction=-1)=> Train. Acc.: 59.71, Test Acc.: 48.28\n",
      "* Epoch 39  (block_position=97, direction=-1)=> Train. Acc.: 61.19, Test Acc.: 49.97\n",
      "* Epoch 40  (block_position=88, direction=-1)=> Train. Acc.: 63.27, Test Acc.: 52.01\n",
      "* Epoch 41  (block_position=79, direction=-1)=> Train. Acc.: 65.81, Test Acc.: 54.78\n",
      "* Epoch 42  (block_position=70, direction=-1)=> Train. Acc.: 67.14, Test Acc.: 56.31\n",
      "* Epoch 43  (block_position=61, direction=-1)=> Train. Acc.: 69.11, Test Acc.: 58.45\n",
      "* Epoch 44  (block_position=52, direction=-1)=> Train. Acc.: 69.54, Test Acc.: 59.10\n",
      "* Epoch 45  (block_position=43, direction=-1)=> Train. Acc.: 69.92, Test Acc.: 59.63\n",
      "* Epoch 46  (block_position=34, direction=-1)=> Train. Acc.: 69.91, Test Acc.: 59.61\n",
      "* Epoch 47  (block_position=25, direction=-1)=> Train. Acc.: 69.96, Test Acc.: 59.37\n",
      "* Epoch 48  (block_position=16, direction=-1)=> Train. Acc.: 69.94, Test Acc.: 59.60\n",
      "* Epoch 49  (block_position=7, direction=-1)=> Train. Acc.: 69.57, Test Acc.: 59.07\n",
      "* Epoch 50  (block_position=2, direction=1)=> Train. Acc.: 70.16, Test Acc.: 59.82\n",
      "* Epoch 51  (block_position=11, direction=1)=> Train. Acc.: 69.99, Test Acc.: 59.69\n",
      "* Epoch 52  (block_position=20, direction=1)=> Train. Acc.: 69.91, Test Acc.: 59.58\n",
      "* Epoch 53  (block_position=29, direction=1)=> Train. Acc.: 69.87, Test Acc.: 59.23\n",
      "* Epoch 54  (block_position=38, direction=1)=> Train. Acc.: 69.94, Test Acc.: 59.44\n",
      "* Epoch 55  (block_position=47, direction=1)=> Train. Acc.: 70.32, Test Acc.: 59.61\n",
      "* Epoch 56  (block_position=56, direction=1)=> Train. Acc.: 70.44, Test Acc.: 59.36\n",
      "* Epoch 57  (block_position=65, direction=1)=> Train. Acc.: 70.80, Test Acc.: 59.50\n",
      "* Epoch 58  (block_position=74, direction=1)=> Train. Acc.: 71.57, Test Acc.: 59.42\n",
      "* Epoch 59  (block_position=83, direction=1)=> Train. Acc.: 72.07, Test Acc.: 59.73\n",
      "* Epoch 60  (block_position=92, direction=1)=> Train. Acc.: 72.71, Test Acc.: 60.39\n",
      "* Epoch 61  (block_position=101, direction=1)=> Train. Acc.: 73.74, Test Acc.: 61.01\n",
      "* Epoch 62  (block_position=110, direction=1)=> Train. Acc.: 74.56, Test Acc.: 61.42\n",
      "* Epoch 63  (block_position=119, direction=1)=> Train. Acc.: 77.45, Test Acc.: 64.26\n",
      "* Epoch 64  (block_position=128, direction=1)=> Train. Acc.: 78.30, Test Acc.: 65.43\n",
      "* Epoch 65  (block_position=137, direction=1)=> Train. Acc.: 79.33, Test Acc.: 66.56\n",
      "* Epoch 66  (block_position=146, direction=1)=> Train. Acc.: 80.41, Test Acc.: 67.67\n",
      "* Epoch 67  (block_position=155, direction=1)=> Train. Acc.: 81.28, Test Acc.: 68.59\n",
      "* Epoch 68  (block_position=164, direction=1)=> Train. Acc.: 82.38, Test Acc.: 69.93\n",
      "* Epoch 69  (block_position=173, direction=1)=> Train. Acc.: 82.69, Test Acc.: 70.40\n",
      "* Epoch 70  (block_position=182, direction=1)=> Train. Acc.: 82.86, Test Acc.: 69.84\n",
      "* Epoch 71  (block_position=191, direction=1)=> Train. Acc.: 82.85, Test Acc.: 70.54\n",
      "* Epoch 72  (block_position=200, direction=1)=> Train. Acc.: 82.70, Test Acc.: 70.19\n",
      "* Epoch 73  (block_position=209, direction=1)=> Train. Acc.: 82.95, Test Acc.: 70.56\n",
      "* Epoch 74  (block_position=218, direction=1)=> Train. Acc.: 82.81, Test Acc.: 70.34\n",
      "* Epoch 75  (block_position=221, direction=-1)=> Train. Acc.: 83.05, Test Acc.: 70.74\n",
      "* Epoch 76  (block_position=212, direction=-1)=> Train. Acc.: 82.64, Test Acc.: 70.36\n",
      "* Epoch 77  (block_position=203, direction=-1)=> Train. Acc.: 82.80, Test Acc.: 70.40\n",
      "* Epoch 78  (block_position=194, direction=-1)=> Train. Acc.: 83.10, Test Acc.: 70.45\n",
      "* Epoch 79  (block_position=185, direction=-1)=> Train. Acc.: 82.98, Test Acc.: 70.27\n",
      "* Epoch 80  (block_position=176, direction=-1)=> Train. Acc.: 83.10, Test Acc.: 70.23\n",
      "* Epoch 81  (block_position=167, direction=-1)=> Train. Acc.: 83.75, Test Acc.: 70.21\n",
      "* Epoch 82  (block_position=158, direction=-1)=> Train. Acc.: 84.00, Test Acc.: 70.05\n",
      "* Epoch 83  (block_position=149, direction=-1)=> Train. Acc.: 84.41, Test Acc.: 70.18\n",
      "* Epoch 84  (block_position=140, direction=-1)=> Train. Acc.: 84.52, Test Acc.: 70.06\n",
      "* Epoch 85  (block_position=131, direction=-1)=> Train. Acc.: 84.89, Test Acc.: 69.79\n",
      "* Epoch 86  (block_position=122, direction=-1)=> Train. Acc.: 85.35, Test Acc.: 69.74\n",
      "* Epoch 87  (block_position=113, direction=-1)=> Train. Acc.: 85.68, Test Acc.: 70.67\n",
      "* Epoch 88  (block_position=104, direction=-1)=> Train. Acc.: 87.23, Test Acc.: 71.58\n",
      "* Epoch 89  (block_position=95, direction=-1)=> Train. Acc.: 87.77, Test Acc.: 72.49\n",
      "* Epoch 90  (block_position=86, direction=-1)=> Train. Acc.: 88.09, Test Acc.: 72.60\n",
      "* Epoch 91  (block_position=77, direction=-1)=> Train. Acc.: 89.02, Test Acc.: 73.84\n",
      "* Epoch 92  (block_position=68, direction=-1)=> Train. Acc.: 89.36, Test Acc.: 74.31\n",
      "* Epoch 93  (block_position=59, direction=-1)=> Train. Acc.: 89.81, Test Acc.: 75.01\n",
      "* Epoch 94  (block_position=50, direction=-1)=> Train. Acc.: 89.46, Test Acc.: 75.64\n",
      "* Epoch 95  (block_position=41, direction=-1)=> Train. Acc.: 89.64, Test Acc.: 75.40\n",
      "* Epoch 96  (block_position=32, direction=-1)=> Train. Acc.: 89.38, Test Acc.: 74.92\n",
      "* Epoch 97  (block_position=23, direction=-1)=> Train. Acc.: 89.54, Test Acc.: 75.21\n",
      "* Epoch 98  (block_position=14, direction=-1)=> Train. Acc.: 89.53, Test Acc.: 75.20\n",
      "* Epoch 99  (block_position=5, direction=-1)=> Train. Acc.: 88.86, Test Acc.: 74.91\n",
      "* Epoch 100 (block_position=4, direction=1)=> Train. Acc.: 89.37, Test Acc.: 75.13\n"
     ]
    }
   ],
   "source": [
    "# Train network\n",
    "block_position = 0\n",
    "direction = 1\n",
    "mps.merge_block(block_position, block_length)\n",
    "mps.trace(torch.zeros(1, input_size, embedding_dim, device=device))\n",
    "optimizer = optim.Adam(mps.parameters(),\n",
    "                       lr=learning_rate,\n",
    "                       weight_decay=weight_decay)\n",
    "\n",
    "for epoch in range(num_epochs):\n",
    "    for batch_idx, (data, targets) in enumerate(train_loader):\n",
    "        # Get data to cuda if possible\n",
    "        data = data.to(device)\n",
    "        targets = targets.to(device)\n",
    "        \n",
    "        # Get to correct shape\n",
    "        data = data.reshape(data.shape[0], -1)\n",
    "        \n",
    "        # Forward\n",
    "        scores = mps(embedding(data))\n",
    "        loss = criterion(scores, targets)\n",
    "        \n",
    "        # Backward\n",
    "        optimizer.zero_grad()\n",
    "        loss.backward()\n",
    "        \n",
    "        # Gradient descent\n",
    "        optimizer.step()\n",
    "        \n",
    "        if (batch_idx + 1) % move_block_epochs == 0:\n",
    "            if block_position + direction + block_length > mps.n_features:\n",
    "                direction *= -1\n",
    "            if block_position + direction < 0:\n",
    "                direction *= -1\n",
    "            if block_length == mps.n_features:\n",
    "                direction = 0\n",
    "            \n",
    "            if direction >= 0:\n",
    "                mps.unmerge_block(side='left',\n",
    "                                  rank=bond_dim, \n",
    "                                  cum_percentage=cum_percentage)\n",
    "            else:\n",
    "                mps.unmerge_block(side='right',\n",
    "                                  rank=bond_dim, \n",
    "                                  cum_percentage=cum_percentage)\n",
    "            \n",
    "            block_position += direction\n",
    "            mps.merge_block(block_position, block_length)\n",
    "            mps.trace(torch.zeros(1, input_size, embedding_dim, device=device))\n",
    "            optimizer = optim.Adam(mps.parameters(),\n",
    "                                   lr=learning_rate,\n",
    "                                   weight_decay=weight_decay)\n",
    "    \n",
    "    train_acc = check_accuracy(train_loader, mps)\n",
    "    test_acc = check_accuracy(test_loader, mps)\n",
    "    \n",
    "    print(f'* Epoch {epoch + 1:<3} ({block_position=}, {direction=})=>'\n",
    "          f' Train. Acc.: {train_acc:.2f},'\n",
    "          f' Test Acc.: {test_acc:.2f}')\n",
    "\n",
    "# Reset before saving the model\n",
    "mps.reset()\n",
    "torch.save(mps.state_dict(), f'models/{model_name}_{dataset_name}.pt')"
   ]
  },
  {
   "cell_type": "code",
   "execution_count": 21,
   "metadata": {},
   "outputs": [],
   "source": [
    "mps.unmerge_block(rank=bond_dim, cum_percentage=cum_percentage)"
   ]
  },
  {
   "cell_type": "code",
   "execution_count": 22,
   "metadata": {},
   "outputs": [],
   "source": [
    "mps.update_bond_dim()"
   ]
  },
  {
   "cell_type": "code",
   "execution_count": 27,
   "metadata": {},
   "outputs": [
    {
     "data": {
      "image/png": "[encoded data removed]",
      "text/plain": [
       "<Figure size 640x480 with 1 Axes>"
      ]
     },
     "metadata": {},
     "output_type": "display_data"
    }
   ],
   "source": [
    "plt.bar(torch.arange(mps.n_features - 1) + 1, torch.tensor(mps.bond_dim))\n",
    "plt.show()"
   ]
  }
 ],
 "metadata": {
  "kernelspec": {
   "display_name": "test_tk",
   "language": "python",
   "name": "python3"
  },
  "language_info": {
   "codemirror_mode": {
    "name": "ipython",
    "version": 3
   },
   "file_extension": ".py",
   "mimetype": "text/x-python",
   "name": "python",
   "nbconvert_exporter": "python",
   "pygments_lexer": "ipython3",
   "version": "3.10.14"
  }
 },
 "nbformat": 4,
 "nbformat_minor": 2
}
