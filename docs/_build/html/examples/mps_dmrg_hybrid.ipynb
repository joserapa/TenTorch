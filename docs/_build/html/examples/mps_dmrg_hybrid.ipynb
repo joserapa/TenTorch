{
 "cells": [
  {
   "cell_type": "markdown",
   "metadata": {},
   "source": [
    "# Hybrid DMRG-like training of MPS\n",
    "\n",
    "Here we show a way of training MPS models in a DMRG fashion, but where all MPS\n",
    "cores are optimized at the same time, thus making the training process much faster.\n",
    "In this approach, MPS cores are merged in pairs, contracting each node with a\n",
    "neighbour, and the whole model is trained like that. After a few iterations,\n",
    "the cores are unmerged and merged again with the other neighbour. This process\n",
    "can be repeated as many times as desired.\n",
    "\n",
    "This has the advantage that bond dimensions can be learned during the training\n",
    "process, and also the optimization is much faster than traditional DMRG, since\n",
    "all cores are updated at once."
   ]
  },
  {
   "cell_type": "code",
   "execution_count": null,
   "metadata": {},
   "outputs": [],
   "source": [
    "%mkdir data\n",
    "%mkdir models"
   ]
  },
  {
   "cell_type": "code",
   "execution_count": 1,
   "metadata": {},
   "outputs": [],
   "source": [
    "import torch\n",
    "import torch.nn as nn\n",
    "import torch.optim as optim\n",
    "from torch.utils.data import DataLoader\n",
    "\n",
    "import torchvision.transforms as transforms\n",
    "import torchvision.datasets as datasets\n",
    "\n",
    "import matplotlib.pyplot as plt\n",
    "\n",
    "import tensorkrowch as tk"
   ]
  },
  {
   "cell_type": "code",
   "execution_count": 2,
   "metadata": {},
   "outputs": [
    {
     "data": {
      "text/plain": [
       "device(type='cuda', index=0)"
      ]
     },
     "execution_count": 2,
     "metadata": {},
     "output_type": "execute_result"
    }
   ],
   "source": [
    "device = torch.device('cpu')\n",
    "\n",
    "if torch.cuda.is_available():\n",
    "    device = torch.device('cuda:0')\n",
    "elif torch.backends.mps.is_available():\n",
    "    device = torch.device('mps:0')\n",
    "else:\n",
    "    device = torch.device('cpu')\n",
    "\n",
    "device"
   ]
  },
  {
   "cell_type": "markdown",
   "metadata": {},
   "source": [
    "## Dataset"
   ]
  },
  {
   "cell_type": "code",
   "execution_count": 3,
   "metadata": {},
   "outputs": [],
   "source": [
    "# MNIST Dataset\n",
    "dataset_name = 'mnist'\n",
    "batch_size = 64\n",
    "image_size = 28\n",
    "input_size = image_size ** 2\n",
    "num_classes = 10\n",
    "\n",
    "transform = transforms.Compose([transforms.ToTensor(),\n",
    "                                transforms.Resize(image_size, antialias=True),\n",
    "                               ])\n",
    "\n",
    "# Load data\n",
    "train_dataset = datasets.MNIST(root='data/',\n",
    "                               train=True,\n",
    "                               transform=transform,\n",
    "                               download=True)\n",
    "test_dataset = datasets.MNIST(root='data/',\n",
    "                              train=False,\n",
    "                              transform=transform,\n",
    "                              download=True)\n",
    "\n",
    "train_loader = DataLoader(dataset=train_dataset,\n",
    "                          batch_size=batch_size,\n",
    "                          shuffle=True)\n",
    "test_loader = DataLoader(dataset=test_dataset,\n",
    "                         batch_size=batch_size,\n",
    "                         shuffle=True)"
   ]
  },
  {
   "cell_type": "code",
   "execution_count": 4,
   "metadata": {},
   "outputs": [
    {
     "data": {
      "image/png": "[encoded data removed]",
      "text/plain": [
       "<Figure size 640x480 with 1 Axes>"
      ]
     },
     "metadata": {},
     "output_type": "display_data"
    },
    {
     "name": "stdout",
     "output_type": "stream",
     "text": [
      "9\n"
     ]
    }
   ],
   "source": [
    "random_sample = torch.randint(low=0, high=len(train_dataset), size=(1,)).item()\n",
    "\n",
    "plt.imshow(train_dataset[random_sample][0].squeeze(0), cmap='Greys')\n",
    "plt.show()\n",
    "\n",
    "print(train_dataset[random_sample][1])"
   ]
  },
  {
   "cell_type": "markdown",
   "metadata": {},
   "source": [
    "## Define model"
   ]
  },
  {
   "cell_type": "code",
   "execution_count": 5,
   "metadata": {},
   "outputs": [],
   "source": [
    "class MPS_HDMRG(tk.models.MPSLayer):\n",
    "    \n",
    "    def __init__(self, *args, **kwargs):\n",
    "        super().__init__(*args, **kwargs)\n",
    "        \n",
    "        self.out_node.get_axis('input').name = 'output'\n",
    "        \n",
    "        self.block_length = None\n",
    "        self.even = None\n",
    "    \n",
    "    def merge(self, even, block_length):\n",
    "        n_blocks = self.n_features // block_length\n",
    "        \n",
    "        if even:\n",
    "            # Leave reamining nodes at the end\n",
    "            mats_env = self.mats_env[:(n_blocks * block_length)]\n",
    "        else:\n",
    "            # Leave remaining nodes at the beggining\n",
    "            mats_env = self.mats_env[(-n_blocks * block_length):]\n",
    "        \n",
    "        blocks = []\n",
    "        for i in range(n_blocks):\n",
    "            block_nodes = mats_env[(i * block_length):((i + 1) * block_length)]\n",
    "        \n",
    "            block = block_nodes[0]\n",
    "            for node in block_nodes[1:]:\n",
    "                block = tk.contract_between_(block, node)\n",
    "            block = block.parameterize(True)\n",
    "            block.name = f'block_({i})'\n",
    "            \n",
    "            blocks.append(block)\n",
    "        \n",
    "        if even:\n",
    "            self._mats_env = blocks + self.mats_env[(n_blocks * block_length):]\n",
    "        else:\n",
    "            self._mats_env = self.mats_env[:(-n_blocks * block_length)] + blocks\n",
    "        \n",
    "        self.block_length = block_length\n",
    "        self.even = even\n",
    "        \n",
    "    def unmerge(self, side='left', rank=None, cum_percentage=None):\n",
    "        n_blocks = self.n_features // self.block_length\n",
    "        \n",
    "        if self.even:\n",
    "            # Leave reamining nodes at the end\n",
    "            blocks = self.mats_env[:n_blocks]\n",
    "        else:\n",
    "            # Leave remaining nodes at the beggining\n",
    "            blocks = self.mats_env[-n_blocks:]\n",
    "        \n",
    "        mats_env = []\n",
    "        for i in range(n_blocks):\n",
    "            block = blocks[i]\n",
    "            block_nodes = []\n",
    "            for j in range(self.block_length - 1):\n",
    "                node1_axes = block.axes[:2]\n",
    "                node2_axes = block.axes[2:]\n",
    "                    \n",
    "                node, block = tk.split_(block,\n",
    "                                        node1_axes,\n",
    "                                        node2_axes,\n",
    "                                        side=side,\n",
    "                                        rank=rank,\n",
    "                                        cum_percentage=cum_percentage)\n",
    "                block.get_axis('split').name = 'left'\n",
    "                node.get_axis('split').name = 'right'\n",
    "                node.name = f'mats_env_({i * self.block_length + j})'\n",
    "                node = node.parameterize(True)\n",
    "                \n",
    "                block_nodes.append(node)\n",
    "                \n",
    "            block.name = f'mats_env_({i * self.block_length + j + 1})'\n",
    "            block = block.parameterize(True)\n",
    "            block_nodes.append(block)\n",
    "\n",
    "            mats_env += block_nodes\n",
    "        \n",
    "        if self.even:\n",
    "            self._mats_env = mats_env + self.mats_env[n_blocks:]\n",
    "        else:\n",
    "            self._mats_env = self.mats_env[:-n_blocks ] + mats_env\n",
    "        \n",
    "        self.block_length = None\n",
    "        self.even = None\n",
    "    \n",
    "    def contract(self):\n",
    "        result_mats = []\n",
    "        for node in self.mats_env:\n",
    "            while any(['input' in name for name in node.axes_names]):\n",
    "                for axis in node.axes:\n",
    "                    if 'input' in axis.name:\n",
    "                        data_node = node.neighbours(axis)\n",
    "                        node = node @ data_node\n",
    "                        break\n",
    "            result_mats.append(node)\n",
    "        \n",
    "        result_mats = [self.left_node] + result_mats + [self.right_node]\n",
    "        \n",
    "        result = result_mats[0]\n",
    "        for node in result_mats[1:]:\n",
    "            result @= node\n",
    "        \n",
    "        return result"
   ]
  },
  {
   "cell_type": "code",
   "execution_count": 6,
   "metadata": {},
   "outputs": [],
   "source": [
    "# Model hyperparameters\n",
    "embedding_dim = 3\n",
    "output_dim = num_classes\n",
    "bond_dim = 10\n",
    "init_method = 'randn_eye'\n",
    "block_length = 2\n",
    "cum_percentage = 0.98"
   ]
  },
  {
   "cell_type": "code",
   "execution_count": 7,
   "metadata": {},
   "outputs": [],
   "source": [
    "# Initialize network\n",
    "model_name = 'mps_dmrg_hybrid'\n",
    "mps = MPS_HDMRG(n_features=input_size + 1,\n",
    "                in_dim=embedding_dim,\n",
    "                out_dim=num_classes,\n",
    "                bond_dim=bond_dim,\n",
    "                boundary='obc',\n",
    "                init_method=init_method,\n",
    "                std=1e-6,\n",
    "                device=device)\n",
    "\n",
    "# Important to set data nodes before merging nodes\n",
    "mps.set_data_nodes()"
   ]
  },
  {
   "cell_type": "code",
   "execution_count": 8,
   "metadata": {},
   "outputs": [],
   "source": [
    "def embedding(x):\n",
    "    x = tk.embeddings.poly(x, degree=embedding_dim - 1)\n",
    "    return x"
   ]
  },
  {
   "cell_type": "markdown",
   "metadata": {},
   "source": [
    "## Train"
   ]
  },
  {
   "cell_type": "code",
   "execution_count": 9,
   "metadata": {},
   "outputs": [],
   "source": [
    "# Hyperparameters\n",
    "learning_rate = 1e-4\n",
    "weight_decay = 1e-8\n",
    "num_epochs = 10\n",
    "move_block_epochs = 100\n",
    "\n",
    "# Loss and optimizer\n",
    "criterion = nn.CrossEntropyLoss()"
   ]
  },
  {
   "cell_type": "code",
   "execution_count": 10,
   "metadata": {},
   "outputs": [],
   "source": [
    "# Check accuracy on training & test to see how good our model is\n",
    "def check_accuracy(loader, model):\n",
    "    num_correct = 0\n",
    "    num_samples = 0\n",
    "    model.eval()\n",
    "    \n",
    "    with torch.no_grad():\n",
    "        for x, y in loader:\n",
    "            x = x.to(device)\n",
    "            y = y.to(device)\n",
    "            x = x.reshape(x.shape[0], -1)\n",
    "            \n",
    "            scores = model(embedding(x))\n",
    "            _, predictions = scores.max(1)\n",
    "            num_correct += (predictions == y).sum()\n",
    "            num_samples += predictions.size(0)\n",
    "        \n",
    "        accuracy = float(num_correct) / float(num_samples) * 100\n",
    "    model.train()\n",
    "    return accuracy"
   ]
  },
  {
   "cell_type": "code",
   "execution_count": 11,
   "metadata": {},
   "outputs": [
    {
     "name": "stdout",
     "output_type": "stream",
     "text": [
      "* Epoch 1   (even=False) => Train. Acc.: 95.27, Test Acc.: 95.25\n",
      "* Epoch 2   (even=True) => Train. Acc.: 96.49, Test Acc.: 96.24\n",
      "* Epoch 3   (even=False) => Train. Acc.: 97.59, Test Acc.: 96.84\n",
      "* Epoch 4   (even=True) => Train. Acc.: 97.81, Test Acc.: 97.15\n",
      "* Epoch 5   (even=False) => Train. Acc.: 98.38, Test Acc.: 97.52\n",
      "* Epoch 6   (even=True) => Train. Acc.: 98.29, Test Acc.: 97.65\n",
      "* Epoch 7   (even=False) => Train. Acc.: 98.38, Test Acc.: 97.70\n",
      "* Epoch 8   (even=True) => Train. Acc.: 98.45, Test Acc.: 97.62\n",
      "* Epoch 9   (even=False) => Train. Acc.: 98.42, Test Acc.: 97.69\n",
      "* Epoch 10  (even=True) => Train. Acc.: 98.37, Test Acc.: 97.24\n"
     ]
    }
   ],
   "source": [
    "# Train network\n",
    "even = True\n",
    "mps.merge(even, block_length)\n",
    "mps.trace(torch.zeros(1, input_size, embedding_dim, device=device))\n",
    "optimizer = optim.Adam(mps.parameters(),\n",
    "                       lr=learning_rate,\n",
    "                       weight_decay=weight_decay)\n",
    "\n",
    "for epoch in range(num_epochs):\n",
    "    for batch_idx, (data, targets) in enumerate(train_loader):\n",
    "        # Get data to cuda if possible\n",
    "        data = data.to(device)\n",
    "        targets = targets.to(device)\n",
    "        \n",
    "        # Get to correct shape\n",
    "        data = data.reshape(data.shape[0], -1)\n",
    "        \n",
    "        # Forward\n",
    "        scores = mps(embedding(data))\n",
    "        loss = criterion(scores, targets)\n",
    "        \n",
    "        # Backward\n",
    "        optimizer.zero_grad()\n",
    "        loss.backward()\n",
    "        \n",
    "        # Gradient descent\n",
    "        optimizer.step()\n",
    "        \n",
    "        if (batch_idx + 1) % move_block_epochs == 0:\n",
    "            if even:\n",
    "                mps.unmerge(side='left',\n",
    "                            rank=bond_dim,\n",
    "                            cum_percentage=cum_percentage)\n",
    "            else:\n",
    "                mps.unmerge(side='right',\n",
    "                            rank=bond_dim,\n",
    "                            cum_percentage=cum_percentage)\n",
    "            \n",
    "            even = not even\n",
    "            mps.merge(even, block_length)\n",
    "            mps.trace(torch.zeros(1, input_size, embedding_dim, device=device))\n",
    "            optimizer = optim.Adam(mps.parameters(),\n",
    "                                   lr=learning_rate,\n",
    "                                   weight_decay=weight_decay)\n",
    "    \n",
    "    train_acc = check_accuracy(train_loader, mps)\n",
    "    test_acc = check_accuracy(test_loader, mps)\n",
    "    \n",
    "    print(f'* Epoch {epoch + 1:<3} ({even=}) => Train. Acc.: {train_acc:.2f},'\n",
    "          f' Test Acc.: {test_acc:.2f}')\n",
    "\n",
    "# Reset before saving the model\n",
    "mps.reset()\n",
    "torch.save(mps.state_dict(), f'models/{model_name}_{dataset_name}.pt')"
   ]
  },
  {
   "cell_type": "code",
   "execution_count": 14,
   "metadata": {},
   "outputs": [],
   "source": [
    "mps.unmerge(rank=bond_dim, cum_percentage=cum_percentage)"
   ]
  },
  {
   "cell_type": "code",
   "execution_count": 15,
   "metadata": {},
   "outputs": [],
   "source": [
    "mps.update_bond_dim()"
   ]
  },
  {
   "cell_type": "code",
   "execution_count": 16,
   "metadata": {},
   "outputs": [
    {
     "data": {
      "image/png": "[encoded data removed]",
      "text/plain": [
       "<Figure size 640x480 with 1 Axes>"
      ]
     },
     "metadata": {},
     "output_type": "display_data"
    }
   ],
   "source": [
    "plt.bar(torch.arange(mps.n_features - 1) + 1, torch.tensor(mps.bond_dim))\n",
    "plt.show()"
   ]
  }
 ],
 "metadata": {
  "kernelspec": {
   "display_name": "test_tk",
   "language": "python",
   "name": "python3"
  },
  "language_info": {
   "codemirror_mode": {
    "name": "ipython",
    "version": 3
   },
   "file_extension": ".py",
   "mimetype": "text/x-python",
   "name": "python",
   "nbconvert_exporter": "python",
   "pygments_lexer": "ipython3",
   "version": "3.10.14"
  }
 },
 "nbformat": 4,
 "nbformat_minor": 2
}
