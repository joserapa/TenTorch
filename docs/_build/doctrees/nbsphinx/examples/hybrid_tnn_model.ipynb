{
 "cells": [
  {
   "cell_type": "markdown",
   "metadata": {},
   "source": [
    "# Hybrid Tensorial Neural Network model\n",
    "\n",
    "This is an example of how one can combine tensor networks and neural networks\n",
    "to build hybrid models. We will create a convolutional layer whose output will be\n",
    "given to 4 MPS layers in different orderings. This model was introduced in [[GPC20']](https://arxiv.org/abs/1806.05964)"
   ]
  },
  {
   "cell_type": "code",
   "execution_count": null,
   "metadata": {},
   "outputs": [],
   "source": [
    "%mkdir data\n",
    "%mkdir models"
   ]
  },
  {
   "cell_type": "code",
   "execution_count": 1,
   "metadata": {},
   "outputs": [],
   "source": [
    "import torch\n",
    "import torch.nn as nn\n",
    "import torch.optim as optim\n",
    "from torch.utils.data import DataLoader\n",
    "\n",
    "import torchvision.transforms as transforms\n",
    "import torchvision.datasets as datasets\n",
    "\n",
    "import matplotlib.pyplot as plt\n",
    "\n",
    "import tensorkrowch as tk"
   ]
  },
  {
   "cell_type": "code",
   "execution_count": 2,
   "metadata": {},
   "outputs": [
    {
     "data": {
      "text/plain": [
       "device(type='cuda', index=0)"
      ]
     },
     "execution_count": 2,
     "metadata": {},
     "output_type": "execute_result"
    }
   ],
   "source": [
    "device = torch.device('cpu')\n",
    "\n",
    "if torch.cuda.is_available():\n",
    "    device = torch.device('cuda:0')\n",
    "elif torch.backends.mps.is_available():\n",
    "    device = torch.device('mps:0')\n",
    "else:\n",
    "    device = torch.device('cpu')\n",
    "\n",
    "device"
   ]
  },
  {
   "cell_type": "markdown",
   "metadata": {},
   "source": [
    "## Dataset"
   ]
  },
  {
   "cell_type": "code",
   "execution_count": 3,
   "metadata": {},
   "outputs": [],
   "source": [
    "# FashionMNIST Dataset\n",
    "dataset_name = 'fashion_mnist'\n",
    "batch_size = 64\n",
    "image_size = 28\n",
    "input_size = image_size ** 2\n",
    "num_classes = 10\n",
    "\n",
    "# Load data\n",
    "train_dataset = datasets.FashionMNIST(root='data/',\n",
    "                                      train=True,\n",
    "                                      transform=transforms.ToTensor(),\n",
    "                                      download=True)\n",
    "test_dataset = datasets.FashionMNIST(root='data/',\n",
    "                                     train=False,\n",
    "                                     transform=transforms.ToTensor(),\n",
    "                                     download=True)\n",
    "\n",
    "train_loader = DataLoader(dataset=train_dataset,\n",
    "                          batch_size=batch_size,\n",
    "                          shuffle=True)\n",
    "test_loader = DataLoader(dataset=test_dataset,\n",
    "                         batch_size=batch_size,\n",
    "                         shuffle=True)"
   ]
  },
  {
   "cell_type": "code",
   "execution_count": 4,
   "metadata": {},
   "outputs": [
    {
     "data": {
      "image/png": "[encoded data removed]",
      "text/plain": [
       "<Figure size 640x480 with 1 Axes>"
      ]
     },
     "metadata": {},
     "output_type": "display_data"
    },
    {
     "name": "stdout",
     "output_type": "stream",
     "text": [
      "7\n"
     ]
    }
   ],
   "source": [
    "random_sample = torch.randint(low=0, high=len(train_dataset), size=(1,)).item()\n",
    "\n",
    "plt.imshow(train_dataset[random_sample][0].squeeze(0), cmap='Greys')\n",
    "plt.show()\n",
    "\n",
    "print(train_dataset[random_sample][1])"
   ]
  },
  {
   "cell_type": "markdown",
   "metadata": {},
   "source": [
    "## Define model"
   ]
  },
  {
   "cell_type": "code",
   "execution_count": 5,
   "metadata": {},
   "outputs": [],
   "source": [
    "class CNN_SnakeSBS(nn.Module):\n",
    "    \n",
    "    def __init__(self,\n",
    "                 in_channels,\n",
    "                 bond_dim,\n",
    "                 image_size,\n",
    "                 num_classes,\n",
    "                 init_method,\n",
    "                 inline_input,\n",
    "                 inline_mats,\n",
    "                 renormalize,\n",
    "                 *args,\n",
    "                 **kwargs):\n",
    "        super().__init__()\n",
    "        \n",
    "        # image = batch_size x in_channels x 28 x 28\n",
    "        self.cnn = nn.Conv2d(in_channels=in_channels,\n",
    "                             out_channels=6,\n",
    "                             kernel_size=5,\n",
    "                             stride=1,\n",
    "                             padding=2)\n",
    "        self.relu = nn.ReLU()\n",
    "        self.pool = nn.MaxPool2d(kernel_size=2)  # 6 X 14 x 14\n",
    "        \n",
    "        self.mps_layers = nn.ModuleList()\n",
    "        for _ in range(4):\n",
    "            mps = tk.models.ConvMPSLayer(in_channels=7,\n",
    "                                         bond_dim=bond_dim,\n",
    "                                         out_channels=num_classes,\n",
    "                                         kernel_size=image_size // 2,\n",
    "                                         init_method=init_method,\n",
    "                                         *args,\n",
    "                                         **kwargs)\n",
    "            self.mps_layers.append(mps)\n",
    "        \n",
    "        self.inline_input = inline_input\n",
    "        self.inline_mats = inline_mats\n",
    "        self.renormalize = renormalize\n",
    "    \n",
    "    @staticmethod\n",
    "    def embedding(x):\n",
    "        ones = torch.ones_like(x[:, :1])\n",
    "        return torch.cat([ones, x], dim=1)\n",
    "        \n",
    "    def forward(self, x):\n",
    "        x = self.relu(self.cnn(x))\n",
    "        x = self.pool(x)\n",
    "        x = self.embedding(x)\n",
    "        \n",
    "        flips_x = [x, x.transpose(2, 3), x.flip(2), x.transpose(2, 3).flip(2)]\n",
    "        lst_ys = []\n",
    "        for i in range(4):\n",
    "            y = self.mps_layers[i](flips_x[i],\n",
    "                                   mode='snake',\n",
    "                                   inline_input=self.inline_input,\n",
    "                                   inline_mats=self.inline_mats,\n",
    "                                   renormalize=self.renormalize)\n",
    "            lst_ys.append(y)\n",
    "        \n",
    "        y = torch.stack(lst_ys, dim=0)\n",
    "        y = y.prod(dim=0).view(-1, 10)\n",
    "        return y"
   ]
  },
  {
   "cell_type": "code",
   "execution_count": 6,
   "metadata": {},
   "outputs": [],
   "source": [
    "# Model hyperparameters\n",
    "output_dim = num_classes\n",
    "bond_dim = 10\n",
    "init_method = 'randn_eye' # rand, randn, randn_eye, canonical, unit\n",
    "\n",
    "# Contraction options\n",
    "inline_input = False\n",
    "inline_mats = False\n",
    "renormalize = False"
   ]
  },
  {
   "cell_type": "code",
   "execution_count": 7,
   "metadata": {},
   "outputs": [],
   "source": [
    "model_name = 'cnn_snakes'\n",
    "cnn_snakes = CNN_SnakeSBS(in_channels=1,\n",
    "                          bond_dim=bond_dim,\n",
    "                          image_size=image_size,\n",
    "                          num_classes=num_classes,\n",
    "                          init_method=init_method,\n",
    "                          inline_input=inline_input,\n",
    "                          inline_mats=inline_mats,\n",
    "                          renormalize=renormalize,\n",
    "                          std=1e-6)  # This can be changed or ignored\n",
    "cnn_snakes = cnn_snakes.to(device)"
   ]
  },
  {
   "cell_type": "markdown",
   "metadata": {},
   "source": [
    "## Train"
   ]
  },
  {
   "cell_type": "code",
   "execution_count": 8,
   "metadata": {},
   "outputs": [],
   "source": [
    "# Trace MPSs in model\n",
    "for mps in cnn_snakes.mps_layers:\n",
    "    mps.trace(torch.zeros(1, 7, image_size // 2, image_size // 2).to(device))"
   ]
  },
  {
   "cell_type": "code",
   "execution_count": 9,
   "metadata": {},
   "outputs": [],
   "source": [
    "# Hyperparameters\n",
    "learning_rate = 1e-4\n",
    "weight_decay = 1e-6\n",
    "num_epochs = 10\n",
    "\n",
    "# Loss and optimizer\n",
    "criterion = nn.CrossEntropyLoss()\n",
    "optimizer = optim.Adam(cnn_snakes.parameters(),\n",
    "                       lr=learning_rate,\n",
    "                       weight_decay=weight_decay)"
   ]
  },
  {
   "cell_type": "code",
   "execution_count": 10,
   "metadata": {},
   "outputs": [],
   "source": [
    "# Check accuracy on training & test to see how good our model is\n",
    "def check_accuracy(loader, model):\n",
    "    num_correct = 0\n",
    "    num_samples = 0\n",
    "    model.eval()\n",
    "    \n",
    "    with torch.no_grad():\n",
    "        for x, y in loader:\n",
    "            x = x.to(device)\n",
    "            y = y.to(device)\n",
    "            \n",
    "            scores = model(x)\n",
    "            _, predictions = scores.max(1)\n",
    "            num_correct += (predictions == y).sum()\n",
    "            num_samples += predictions.size(0)\n",
    "        \n",
    "        accuracy = float(num_correct) / float(num_samples) * 100\n",
    "    model.train()\n",
    "    return accuracy"
   ]
  },
  {
   "cell_type": "code",
   "execution_count": 11,
   "metadata": {},
   "outputs": [
    {
     "name": "stdout",
     "output_type": "stream",
     "text": [
      "* Epoch 1   => Train. Acc.: 80.64, Test Acc.: 79.98\n",
      "* Epoch 2   => Train. Acc.: 85.18, Test Acc.: 83.80\n",
      "* Epoch 3   => Train. Acc.: 85.38, Test Acc.: 84.17\n",
      "* Epoch 4   => Train. Acc.: 87.40, Test Acc.: 86.35\n",
      "* Epoch 5   => Train. Acc.: 87.38, Test Acc.: 85.88\n",
      "* Epoch 6   => Train. Acc.: 88.33, Test Acc.: 86.81\n",
      "* Epoch 7   => Train. Acc.: 89.28, Test Acc.: 87.95\n",
      "* Epoch 8   => Train. Acc.: 89.16, Test Acc.: 87.55\n",
      "* Epoch 9   => Train. Acc.: 89.50, Test Acc.: 88.22\n",
      "* Epoch 10  => Train. Acc.: 88.45, Test Acc.: 86.86\n"
     ]
    }
   ],
   "source": [
    "# Train network\n",
    "for epoch in range(num_epochs):\n",
    "    for batch_idx, (data, targets) in enumerate(train_loader):\n",
    "        # Get data to cuda if possible\n",
    "        data = data.to(device)\n",
    "        targets = targets.to(device)\n",
    "        \n",
    "        # Forward\n",
    "        scores = cnn_snakes(data)\n",
    "        loss = criterion(scores, targets)\n",
    "        \n",
    "        # Backward\n",
    "        optimizer.zero_grad()\n",
    "        loss.backward()\n",
    "        \n",
    "        # Gradient descent\n",
    "        optimizer.step()\n",
    "    \n",
    "    train_acc = check_accuracy(train_loader, cnn_snakes)\n",
    "    test_acc = check_accuracy(test_loader, cnn_snakes)\n",
    "    \n",
    "    print(f'* Epoch {epoch + 1:<3} => Train. Acc.: {train_acc:.2f},'\n",
    "          f' Test Acc.: {test_acc:.2f}')\n",
    "\n",
    "# Reset before saving the model\n",
    "for mps in cnn_snakes.mps_layers:\n",
    "    mps.reset()\n",
    "torch.save(cnn_snakes.state_dict(), f'models/{model_name}_{dataset_name}.pt')"
   ]
  },
  {
   "cell_type": "code",
   "execution_count": 12,
   "metadata": {},
   "outputs": [],
   "source": [
    "def n_params(model):\n",
    "    n = 0\n",
    "    for p in model.parameters():\n",
    "        n += p.numel()\n",
    "    return n"
   ]
  },
  {
   "cell_type": "code",
   "execution_count": 13,
   "metadata": {},
   "outputs": [
    {
     "data": {
      "text/plain": [
       "(86.98, 553036)"
      ]
     },
     "execution_count": 13,
     "metadata": {},
     "output_type": "execute_result"
    }
   ],
   "source": [
    "n = n_params(cnn_snakes)\n",
    "test_acc = check_accuracy(test_loader, cnn_snakes)\n",
    "test_acc, n"
   ]
  },
  {
   "cell_type": "code",
   "execution_count": 14,
   "metadata": {},
   "outputs": [],
   "source": [
    "for mps in cnn_snakes.mps_layers:\n",
    "    mps.canonicalize(cum_percentage=0.99, renormalize=True)"
   ]
  },
  {
   "cell_type": "code",
   "execution_count": 15,
   "metadata": {},
   "outputs": [
    {
     "data": {
      "text/plain": [
       "(86.61, 462803)"
      ]
     },
     "execution_count": 15,
     "metadata": {},
     "output_type": "execute_result"
    }
   ],
   "source": [
    "n = n_params(cnn_snakes)\n",
    "test_acc = check_accuracy(test_loader, cnn_snakes)\n",
    "test_acc, n"
   ]
  }
 ],
 "metadata": {
  "kernelspec": {
   "display_name": "test_tk",
   "language": "python",
   "name": "python3"
  },
  "language_info": {
   "codemirror_mode": {
    "name": "ipython",
    "version": 3
   },
   "file_extension": ".py",
   "mimetype": "text/x-python",
   "name": "python",
   "nbconvert_exporter": "python",
   "pygments_lexer": "ipython3",
   "version": "3.10.14"
  }
 },
 "nbformat": 4,
 "nbformat_minor": 2
}
