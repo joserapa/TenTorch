{
 "cells": [
  {
   "attachments": {},
   "cell_type": "markdown",
   "metadata": {},
   "source": [
    "# MPS and Canonical Form - MNIST"
   ]
  },
  {
   "cell_type": "code",
   "execution_count": 1,
   "metadata": {},
   "outputs": [],
   "source": [
    "import time\n",
    "from functools import partial\n",
    "\n",
    "import torch\n",
    "import torch.nn as nn\n",
    "from torchvision import transforms, datasets\n",
    "\n",
    "import tensorkrowch as tk"
   ]
  },
  {
   "cell_type": "code",
   "execution_count": 2,
   "metadata": {},
   "outputs": [],
   "source": [
    "# Miscellaneous initialization\n",
    "torch.manual_seed(0)\n",
    "\n",
    "# Training parameters\n",
    "num_train = 60000\n",
    "num_test = 10000\n",
    "batch_size = 500\n",
    "image_size = (28, 28)\n",
    "num_epochs = 10\n",
    "num_epochs_canonical = 3\n",
    "learn_rate = 1e-4\n",
    "l2_reg = 0.0\n",
    "d_phys = 3\n",
    "d_bond = 10"
   ]
  },
  {
   "cell_type": "code",
   "execution_count": 3,
   "metadata": {},
   "outputs": [],
   "source": [
    "device = torch.device('cuda' if torch.cuda.is_available() else 'cpu')\n",
    "\n",
    "mps = tk.MPSLayer(n_sites=image_size[0] * image_size[1] + 1,\n",
    "                  d_phys=d_phys,\n",
    "                  n_labels=10,\n",
    "                  d_bond=d_bond)\n",
    "mps = mps.to(device)"
   ]
  },
  {
   "cell_type": "code",
   "execution_count": 4,
   "metadata": {},
   "outputs": [],
   "source": [
    "# Before starting training, set memory modes to True, and trace\n",
    "mps.auto_stack = True\n",
    "mps.auto_unbind = False\n",
    "mps.trace(torch.zeros(image_size[0] * image_size[1], 1, d_phys).to(device))"
   ]
  },
  {
   "cell_type": "code",
   "execution_count": 5,
   "metadata": {},
   "outputs": [],
   "source": [
    "# Set our loss function and optimizer\n",
    "loss_fun = torch.nn.CrossEntropyLoss()\n",
    "optimizer = torch.optim.Adam(mps.parameters(),\n",
    "                             lr=learn_rate,\n",
    "                             weight_decay=l2_reg)"
   ]
  },
  {
   "cell_type": "code",
   "execution_count": 6,
   "metadata": {},
   "outputs": [],
   "source": [
    "def embedding(image: torch.Tensor) -> torch.Tensor:\n",
    "    return torch.stack([torch.ones_like(image), image, 1 - image], dim=1)\n",
    "\n",
    "transform = transforms.Compose([transforms.Resize(image_size),\n",
    "                                transforms.ToTensor(),\n",
    "                                transforms.Lambda(embedding)])  # partial(tk.add_ones, dim=1)\n",
    "\n",
    "train_set = datasets.MNIST('./data', download=True, transform=transform)\n",
    "test_set = datasets.MNIST('./data', download=True, transform=transform,\n",
    "                          train=False)"
   ]
  },
  {
   "cell_type": "code",
   "execution_count": 7,
   "metadata": {},
   "outputs": [
    {
     "name": "stdout",
     "output_type": "stream",
     "text": [
      "Training on 60000 MNIST images \n",
      "(testing on 10000) for 10 epochs\n",
      "Using Adam w/ learning rate = 1.0e-04\n",
      "\n"
     ]
    }
   ],
   "source": [
    "# Put MNIST data into dataloaders\n",
    "samplers = {\n",
    "    \"train\": torch.utils.data.SubsetRandomSampler(range(num_train)),\n",
    "    \"test\": torch.utils.data.SubsetRandomSampler(range(num_test)),\n",
    "}\n",
    "loaders = {\n",
    "    name: torch.utils.data.DataLoader(\n",
    "        dataset, batch_size=batch_size, sampler=samplers[name], drop_last=True\n",
    "    )\n",
    "    for (name, dataset) in [(\"train\", train_set), (\"test\", test_set)]\n",
    "}\n",
    "num_batches = {\n",
    "    name: total_num // batch_size\n",
    "    for (name, total_num) in [(\"train\", num_train), (\"test\", num_test)]\n",
    "}\n",
    "\n",
    "print(\n",
    "    f\"Training on {num_train} MNIST images \\n\"\n",
    "    f\"(testing on {num_test}) for {num_epochs} epochs\"\n",
    ")\n",
    "print(f\"Using Adam w/ learning rate = {learn_rate:.1e}\")\n",
    "if l2_reg > 0:\n",
    "    print(f\" * L2 regularization = {l2_reg:.2e}\")\n",
    "print()"
   ]
  },
  {
   "cell_type": "code",
   "execution_count": 8,
   "metadata": {},
   "outputs": [
    {
     "name": "stdout",
     "output_type": "stream",
     "text": [
      "* Epoch 1: Train. Loss: 0.9456, Train. Acc.: 0.6753, Test Acc.: 0.8924\n",
      "* Epoch 2: Train. Loss: 0.2921, Train. Acc.: 0.9121, Test Acc.: 0.9360\n",
      "* Epoch 3: Train. Loss: 0.2066, Train. Acc.: 0.9378, Test Acc.: 0.9443\n",
      "* Epoch 4: Train. Loss: 0.1642, Train. Acc.: 0.9502, Test Acc.: 0.9595\n",
      "* Epoch 5: Train. Loss: 0.1317, Train. Acc.: 0.9601, Test Acc.: 0.9632\n",
      "* Epoch 6: Train. Loss: 0.1135, Train. Acc.: 0.9654, Test Acc.: 0.9655\n",
      "* Epoch 7: Train. Loss: 0.1046, Train. Acc.: 0.9687, Test Acc.: 0.9668\n",
      "* Epoch 8: Train. Loss: 0.0904, Train. Acc.: 0.9720, Test Acc.: 0.9723\n",
      "* Epoch 9: Train. Loss: 0.0836, Train. Acc.: 0.9740, Test Acc.: 0.9725\n",
      "* Epoch 10: Train. Loss: 0.0751, Train. Acc.: 0.9764, Test Acc.: 0.9748\n"
     ]
    }
   ],
   "source": [
    "for epoch_num in range(1, num_epochs + 1):\n",
    "    running_train_loss = 0.0\n",
    "    running_train_acc = 0.0\n",
    "    \n",
    "    for inputs, labels in loaders[\"train\"]:\n",
    "        inputs = inputs.view(\n",
    "            [batch_size, d_phys, image_size[0] * image_size[1]]).permute(2, 0, 1)\n",
    "        labels = labels.data\n",
    "        inputs, labels = inputs.to(device), labels.to(device)\n",
    "\n",
    "        scores = mps(inputs)\n",
    "        _, preds = torch.max(scores, 1)\n",
    "\n",
    "        # Compute the loss and accuracy, add them to the running totals\n",
    "        loss = loss_fun(scores, labels)\n",
    "\n",
    "        with torch.no_grad():\n",
    "            accuracy = torch.sum(preds == labels).item() / batch_size\n",
    "            running_train_loss += loss\n",
    "            running_train_acc += accuracy\n",
    "\n",
    "        # Backpropagate and update parameters\n",
    "        optimizer.zero_grad()\n",
    "        loss.backward()\n",
    "        optimizer.step()\n",
    "    \n",
    "    with torch.no_grad():\n",
    "        running_test_acc = 0.0\n",
    "\n",
    "        for inputs, labels in loaders[\"test\"]:\n",
    "            inputs = inputs.view([\n",
    "                batch_size, d_phys, image_size[0] * image_size[1]]).permute(2, 0, 1)\n",
    "            labels = labels.data\n",
    "            inputs, labels = inputs.to(device), labels.to(device)\n",
    "\n",
    "            # Call our MPS to get logit scores and predictions\n",
    "            scores = mps(inputs)\n",
    "            _, preds = torch.max(scores, 1)\n",
    "            running_test_acc += torch.sum(preds == labels).item() / batch_size\n",
    "    \n",
    "    print(f'* Epoch {epoch_num}: '\n",
    "          f'Train. Loss: {running_train_loss / num_batches[\"train\"]:.4f}, '\n",
    "          f'Train. Acc.: {running_train_acc / num_batches[\"train\"]:.4f}, '\n",
    "          f'Test Acc.: {running_test_acc / num_batches[\"test\"]:.4f}')"
   ]
  },
  {
   "cell_type": "code",
   "execution_count": 9,
   "metadata": {},
   "outputs": [
    {
     "name": "stdout",
     "output_type": "stream",
     "text": [
      "Nº params:     235660\n",
      "Memory module: 0.8990 MB\n"
     ]
    }
   ],
   "source": [
    "# Original number of parametrs\n",
    "n_params = 0\n",
    "memory = 0\n",
    "for p in mps.parameters():\n",
    "    n_params += p.nelement()\n",
    "    memory += p.nelement() * p.element_size()  # Bytes\n",
    "print(f'Nº params:     {n_params}')\n",
    "print(f'Memory module: {memory / 1024**2:.4f} MB')  # MegaBytes"
   ]
  },
  {
   "cell_type": "code",
   "execution_count": 10,
   "metadata": {},
   "outputs": [
    {
     "name": "stdout",
     "output_type": "stream",
     "text": [
      "Test Acc.: 0.9196\n",
      "\n",
      "Nº params:     150710\n",
      "Memory module: 0.5749 MB\n",
      "\n"
     ]
    }
   ],
   "source": [
    "# Canonicalize SVD\n",
    "# ----------------\n",
    "mps.canonicalize(cum_percentage=0.98)\n",
    "mps.trace(torch.zeros(image_size[0] * image_size[1], 1, d_phys).to(device))\n",
    "\n",
    "# New test accuracy\n",
    "with torch.no_grad():\n",
    "    running_acc = 0.0\n",
    "\n",
    "    for inputs, labels in loaders[\"test\"]:\n",
    "        inputs = inputs.view(\n",
    "            [batch_size, d_phys, image_size[0] * image_size[1]]).permute(2, 0, 1)\n",
    "        labels = labels.data\n",
    "        inputs, labels = inputs.to(device), labels.to(device)\n",
    "\n",
    "        # Call our MPS to get logit scores and predictions\n",
    "        scores = mps(inputs)\n",
    "        _, preds = torch.max(scores, 1)\n",
    "        running_acc += torch.sum(preds == labels).item() / batch_size\n",
    "\n",
    "print(f\"Test Acc.: {running_acc / num_batches['test']:.4f}\\n\")\n",
    "\n",
    "# Number of parametrs\n",
    "n_params = 0\n",
    "memory = 0\n",
    "for p in mps.parameters():\n",
    "    n_params += p.nelement()\n",
    "    memory += p.nelement() * p.element_size()  # Bytes\n",
    "print(f'Nº params:     {n_params}')\n",
    "print(f'Memory module: {memory / 1024**2:.4f} MB\\n')  # MegaBytes"
   ]
  },
  {
   "cell_type": "code",
   "execution_count": 11,
   "metadata": {},
   "outputs": [
    {
     "name": "stdout",
     "output_type": "stream",
     "text": [
      "* Epoch 1: Train. Loss: 0.1018, Train. Acc.: 0.9684, Test Acc.: 0.9693\n",
      "* Epoch 2: Train. Loss: 0.0815, Train. Acc.: 0.9746, Test Acc.: 0.9698\n",
      "* Epoch 3: Train. Loss: 0.0716, Train. Acc.: 0.9778, Test Acc.: 0.9721\n"
     ]
    }
   ],
   "source": [
    "# Continue training and obtaining canonical form after each epoch\n",
    "optimizer = torch.optim.Adam(mps.parameters(),\n",
    "                             lr=learn_rate,\n",
    "                             weight_decay=l2_reg)\n",
    "\n",
    "for epoch_num in range(1, num_epochs_canonical + 1):\n",
    "    running_train_loss = 0.0\n",
    "    running_train_acc = 0.0\n",
    "    \n",
    "    for inputs, labels in loaders[\"train\"]:\n",
    "        inputs = inputs.view(\n",
    "            [batch_size, d_phys, image_size[0] * image_size[1]]).permute(2, 0, 1)\n",
    "        labels = labels.data\n",
    "        inputs, labels = inputs.to(device), labels.to(device)\n",
    "\n",
    "        scores = mps(inputs)\n",
    "        _, preds = torch.max(scores, 1)\n",
    "\n",
    "        # Compute the loss and accuracy, add them to the running totals\n",
    "        loss = loss_fun(scores, labels)\n",
    "\n",
    "        with torch.no_grad():\n",
    "            accuracy = torch.sum(preds == labels).item() / batch_size\n",
    "            running_train_loss += loss\n",
    "            running_train_acc += accuracy\n",
    "\n",
    "        # Backpropagate and update parameters\n",
    "        optimizer.zero_grad()\n",
    "        loss.backward()\n",
    "        optimizer.step()\n",
    "    \n",
    "    with torch.no_grad():\n",
    "        running_test_acc = 0.0\n",
    "\n",
    "        for inputs, labels in loaders[\"test\"]:\n",
    "            inputs = inputs.view([\n",
    "                batch_size, d_phys, image_size[0] * image_size[1]]).permute(2, 0, 1)\n",
    "            labels = labels.data\n",
    "            inputs, labels = inputs.to(device), labels.to(device)\n",
    "\n",
    "            # Call our MPS to get logit scores and predictions\n",
    "            scores = mps(inputs)\n",
    "            _, preds = torch.max(scores, 1)\n",
    "            running_test_acc += torch.sum(preds == labels).item() / batch_size\n",
    "    \n",
    "    print(f'* Epoch {epoch_num}: '\n",
    "          f'Train. Loss: {running_train_loss / num_batches[\"train\"]:.4f}, '\n",
    "          f'Train. Acc.: {running_train_acc / num_batches[\"train\"]:.4f}, '\n",
    "          f'Test Acc.: {running_test_acc / num_batches[\"test\"]:.4f}')"
   ]
  }
 ],
 "metadata": {
  "kernelspec": {
   "display_name": "pytorch",
   "language": "python",
   "name": "python3"
  },
  "language_info": {
   "codemirror_mode": {
    "name": "ipython",
    "version": 3
   },
   "file_extension": ".py",
   "mimetype": "text/x-python",
   "name": "python",
   "nbconvert_exporter": "python",
   "pygments_lexer": "ipython3",
   "version": "3.8.15"
  },
  "orig_nbformat": 4,
  "vscode": {
   "interpreter": {
    "hash": "98819ef66e0fd8e26166ef23b2736d781c80dc7aa950207c762e497c21afbd1c"
   }
  }
 },
 "nbformat": 4,
 "nbformat_minor": 2
}
