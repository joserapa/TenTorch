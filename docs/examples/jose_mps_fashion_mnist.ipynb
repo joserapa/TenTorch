{
 "cells": [
  {
   "attachments": {},
   "cell_type": "markdown",
   "metadata": {},
   "source": [
    "# MPS and Canonical Form - FashionMNIST"
   ]
  },
  {
   "cell_type": "code",
   "execution_count": 1,
   "metadata": {},
   "outputs": [],
   "source": [
    "import time\n",
    "from functools import partial\n",
    "\n",
    "import torch\n",
    "import torch.nn as nn\n",
    "from torchvision import transforms, datasets\n",
    "\n",
    "import tensorkrowch as tk"
   ]
  },
  {
   "cell_type": "code",
   "execution_count": 2,
   "metadata": {},
   "outputs": [],
   "source": [
    "# Miscellaneous initialization\n",
    "torch.manual_seed(0)\n",
    "\n",
    "# Training parameters\n",
    "num_train = 60000\n",
    "num_test = 10000\n",
    "batch_size = 500\n",
    "image_size = (28, 28)\n",
    "num_epochs = 30\n",
    "num_epochs_canonical = 3\n",
    "learn_rate = 1e-4\n",
    "l2_reg = 0.0\n",
    "d_phys = 2\n",
    "d_bond = 10"
   ]
  },
  {
   "cell_type": "code",
   "execution_count": 3,
   "metadata": {},
   "outputs": [],
   "source": [
    "device = torch.device('cuda' if torch.cuda.is_available() else 'cpu')\n",
    "\n",
    "mps = tk.MPSLayer(n_sites=image_size[0] * image_size[1] + 1,\n",
    "                  d_phys=d_phys,\n",
    "                  n_labels=10,\n",
    "                  d_bond=d_bond)\n",
    "mps = mps.to(device)"
   ]
  },
  {
   "cell_type": "code",
   "execution_count": 4,
   "metadata": {},
   "outputs": [],
   "source": [
    "# Before starting training, set memory modes to True, and trace\n",
    "mps.auto_stack = True\n",
    "mps.auto_unbind = False\n",
    "mps.trace(torch.zeros(image_size[0] * image_size[1], 1, d_phys).to(device))"
   ]
  },
  {
   "cell_type": "code",
   "execution_count": 5,
   "metadata": {},
   "outputs": [],
   "source": [
    "# Set our loss function and optimizer\n",
    "loss_fun = torch.nn.CrossEntropyLoss()\n",
    "optimizer = torch.optim.Adam(mps.parameters(),\n",
    "                             lr=learn_rate,\n",
    "                             weight_decay=l2_reg)"
   ]
  },
  {
   "cell_type": "code",
   "execution_count": 6,
   "metadata": {},
   "outputs": [],
   "source": [
    "def embedding(image: torch.Tensor) -> torch.Tensor:\n",
    "    return torch.stack([torch.ones_like(image), image, 1 - image], dim=1)\n",
    "\n",
    "transform = transforms.Compose([transforms.Resize(image_size),\n",
    "                                transforms.ToTensor(),\n",
    "                                transforms.Lambda(partial(tk.add_ones, dim=1))])  # partial(tk.add_ones, dim=1)\n",
    "\n",
    "train_set = datasets.FashionMNIST('./data', download=True, transform=transform)\n",
    "test_set = datasets.FashionMNIST('./data', download=True, transform=transform,\n",
    "                                 train=False)"
   ]
  },
  {
   "cell_type": "code",
   "execution_count": 7,
   "metadata": {},
   "outputs": [
    {
     "name": "stdout",
     "output_type": "stream",
     "text": [
      "Training on 60000 MNIST images \n",
      "(testing on 10000) for 30 epochs\n",
      "Using Adam w/ learning rate = 1.0e-04\n",
      "\n"
     ]
    }
   ],
   "source": [
    "# Put MNIST data into dataloaders\n",
    "samplers = {\n",
    "    \"train\": torch.utils.data.SubsetRandomSampler(range(num_train)),\n",
    "    \"test\": torch.utils.data.SubsetRandomSampler(range(num_test)),\n",
    "}\n",
    "loaders = {\n",
    "    name: torch.utils.data.DataLoader(\n",
    "        dataset, batch_size=batch_size, sampler=samplers[name], drop_last=True\n",
    "    )\n",
    "    for (name, dataset) in [(\"train\", train_set), (\"test\", test_set)]\n",
    "}\n",
    "num_batches = {\n",
    "    name: total_num // batch_size\n",
    "    for (name, total_num) in [(\"train\", num_train), (\"test\", num_test)]\n",
    "}\n",
    "\n",
    "print(\n",
    "    f\"Training on {num_train} MNIST images \\n\"\n",
    "    f\"(testing on {num_test}) for {num_epochs} epochs\"\n",
    ")\n",
    "print(f\"Using Adam w/ learning rate = {learn_rate:.1e}\")\n",
    "if l2_reg > 0:\n",
    "    print(f\" * L2 regularization = {l2_reg:.2e}\")\n",
    "print()"
   ]
  },
  {
   "cell_type": "code",
   "execution_count": 8,
   "metadata": {},
   "outputs": [
    {
     "name": "stdout",
     "output_type": "stream",
     "text": [
      "* Epoch 1: Train. Loss: 1.3908, Train. Acc.: 0.4461, Test Acc.: 0.7251\n",
      "* Epoch 2: Train. Loss: 0.6236, Train. Acc.: 0.7636, Test Acc.: 0.7842\n",
      "* Epoch 3: Train. Loss: 0.5318, Train. Acc.: 0.8020, Test Acc.: 0.7989\n",
      "* Epoch 4: Train. Loss: 0.4872, Train. Acc.: 0.8198, Test Acc.: 0.8069\n",
      "* Epoch 5: Train. Loss: 0.4533, Train. Acc.: 0.8324, Test Acc.: 0.8296\n",
      "* Epoch 6: Train. Loss: 0.4351, Train. Acc.: 0.8378, Test Acc.: 0.8253\n",
      "* Epoch 7: Train. Loss: 0.4111, Train. Acc.: 0.8473, Test Acc.: 0.8333\n",
      "* Epoch 8: Train. Loss: 0.3967, Train. Acc.: 0.8521, Test Acc.: 0.8431\n",
      "* Epoch 9: Train. Loss: 0.3875, Train. Acc.: 0.8570, Test Acc.: 0.8324\n",
      "* Epoch 10: Train. Loss: 0.3825, Train. Acc.: 0.8572, Test Acc.: 0.8461\n",
      "* Epoch 11: Train. Loss: 0.3754, Train. Acc.: 0.8591, Test Acc.: 0.8472\n",
      "* Epoch 12: Train. Loss: 0.3680, Train. Acc.: 0.8620, Test Acc.: 0.8452\n",
      "* Epoch 13: Train. Loss: 0.3640, Train. Acc.: 0.8635, Test Acc.: 0.8521\n",
      "* Epoch 14: Train. Loss: 0.3559, Train. Acc.: 0.8668, Test Acc.: 0.8561\n",
      "* Epoch 15: Train. Loss: 0.3479, Train. Acc.: 0.8696, Test Acc.: 0.8619\n",
      "* Epoch 16: Train. Loss: 0.3453, Train. Acc.: 0.8699, Test Acc.: 0.8521\n",
      "* Epoch 17: Train. Loss: 0.3382, Train. Acc.: 0.8740, Test Acc.: 0.8565\n",
      "* Epoch 18: Train. Loss: 0.3344, Train. Acc.: 0.8748, Test Acc.: 0.8595\n",
      "* Epoch 19: Train. Loss: 0.3274, Train. Acc.: 0.8777, Test Acc.: 0.8574\n",
      "* Epoch 20: Train. Loss: 0.3240, Train. Acc.: 0.8784, Test Acc.: 0.8667\n",
      "* Epoch 21: Train. Loss: 0.3230, Train. Acc.: 0.8801, Test Acc.: 0.8683\n",
      "* Epoch 22: Train. Loss: 0.3158, Train. Acc.: 0.8809, Test Acc.: 0.8649\n",
      "* Epoch 23: Train. Loss: 0.3131, Train. Acc.: 0.8807, Test Acc.: 0.8564\n",
      "* Epoch 24: Train. Loss: 0.3077, Train. Acc.: 0.8846, Test Acc.: 0.8634\n",
      "* Epoch 25: Train. Loss: 0.3055, Train. Acc.: 0.8862, Test Acc.: 0.8700\n",
      "* Epoch 26: Train. Loss: 0.3005, Train. Acc.: 0.8862, Test Acc.: 0.8726\n",
      "* Epoch 27: Train. Loss: 0.3023, Train. Acc.: 0.8866, Test Acc.: 0.8684\n",
      "* Epoch 28: Train. Loss: 0.2955, Train. Acc.: 0.8891, Test Acc.: 0.8692\n",
      "* Epoch 29: Train. Loss: 0.2965, Train. Acc.: 0.8880, Test Acc.: 0.8683\n",
      "* Epoch 30: Train. Loss: 0.2882, Train. Acc.: 0.8905, Test Acc.: 0.8692\n"
     ]
    }
   ],
   "source": [
    "for epoch_num in range(1, num_epochs + 1):\n",
    "    running_train_loss = 0.0\n",
    "    running_train_acc = 0.0\n",
    "    \n",
    "    for inputs, labels in loaders[\"train\"]:\n",
    "        inputs = inputs.view(\n",
    "            [batch_size, d_phys, image_size[0] * image_size[1]]).permute(2, 0, 1)\n",
    "        labels = labels.data\n",
    "        inputs, labels = inputs.to(device), labels.to(device)\n",
    "\n",
    "        scores = mps(inputs)\n",
    "        _, preds = torch.max(scores, 1)\n",
    "\n",
    "        # Compute the loss and accuracy, add them to the running totals\n",
    "        loss = loss_fun(scores, labels)\n",
    "\n",
    "        with torch.no_grad():\n",
    "            accuracy = torch.sum(preds == labels).item() / batch_size\n",
    "            running_train_loss += loss\n",
    "            running_train_acc += accuracy\n",
    "\n",
    "        # Backpropagate and update parameters\n",
    "        optimizer.zero_grad()\n",
    "        loss.backward()\n",
    "        optimizer.step()\n",
    "    \n",
    "    with torch.no_grad():\n",
    "        running_test_acc = 0.0\n",
    "\n",
    "        for inputs, labels in loaders[\"test\"]:\n",
    "            inputs = inputs.view([\n",
    "                batch_size, d_phys, image_size[0] * image_size[1]]).permute(2, 0, 1)\n",
    "            labels = labels.data\n",
    "            inputs, labels = inputs.to(device), labels.to(device)\n",
    "\n",
    "            # Call our MPS to get logit scores and predictions\n",
    "            scores = mps(inputs)\n",
    "            _, preds = torch.max(scores, 1)\n",
    "            running_test_acc += torch.sum(preds == labels).item() / batch_size\n",
    "    \n",
    "    print(f'* Epoch {epoch_num}: '\n",
    "          f'Train. Loss: {running_train_loss / num_batches[\"train\"]:.4f}, '\n",
    "          f'Train. Acc.: {running_train_acc / num_batches[\"train\"]:.4f}, '\n",
    "          f'Test Acc.: {running_test_acc / num_batches[\"test\"]:.4f}')"
   ]
  },
  {
   "cell_type": "code",
   "execution_count": 9,
   "metadata": {},
   "outputs": [
    {
     "name": "stdout",
     "output_type": "stream",
     "text": [
      "Nº params:     157440\n",
      "Memory module: 0.6006 MB\n"
     ]
    }
   ],
   "source": [
    "# Original number of parametrs\n",
    "n_params = 0\n",
    "memory = 0\n",
    "for p in mps.parameters():\n",
    "    n_params += p.nelement()\n",
    "    memory += p.nelement() * p.element_size()  # Bytes\n",
    "print(f'Nº params:     {n_params}')\n",
    "print(f'Memory module: {memory / 1024**2:.4f} MB')  # MegaBytes"
   ]
  },
  {
   "cell_type": "code",
   "execution_count": 10,
   "metadata": {},
   "outputs": [
    {
     "name": "stdout",
     "output_type": "stream",
     "text": [
      "Test Acc.: 0.8321\n",
      "\n",
      "Nº params:     100664\n",
      "Memory module: 0.3840 MB\n",
      "\n"
     ]
    }
   ],
   "source": [
    "# Canonicalize SVD\n",
    "# ----------------\n",
    "mps.canonicalize(cum_percentage=0.98)\n",
    "mps.trace(torch.zeros(image_size[0] * image_size[1], 1, d_phys).to(device))\n",
    "\n",
    "# New test accuracy\n",
    "with torch.no_grad():\n",
    "    running_acc = 0.0\n",
    "\n",
    "    for inputs, labels in loaders[\"test\"]:\n",
    "        inputs = inputs.view(\n",
    "            [batch_size, d_phys, image_size[0] * image_size[1]]).permute(2, 0, 1)\n",
    "        labels = labels.data\n",
    "        inputs, labels = inputs.to(device), labels.to(device)\n",
    "\n",
    "        # Call our MPS to get logit scores and predictions\n",
    "        scores = mps(inputs)\n",
    "        _, preds = torch.max(scores, 1)\n",
    "        running_acc += torch.sum(preds == labels).item() / batch_size\n",
    "\n",
    "print(f\"Test Acc.: {running_acc / num_batches['test']:.4f}\\n\")\n",
    "\n",
    "# Number of parametrs\n",
    "n_params = 0\n",
    "memory = 0\n",
    "for p in mps.parameters():\n",
    "    n_params += p.nelement()\n",
    "    memory += p.nelement() * p.element_size()  # Bytes\n",
    "print(f'Nº params:     {n_params}')\n",
    "print(f'Memory module: {memory / 1024**2:.4f} MB\\n')  # MegaBytes"
   ]
  },
  {
   "cell_type": "code",
   "execution_count": 11,
   "metadata": {},
   "outputs": [
    {
     "name": "stdout",
     "output_type": "stream",
     "text": [
      "* Epoch 1: Train. Loss: 0.3074, Train. Acc.: 0.8843, Test Acc.: 0.8691\n",
      "* Epoch 2: Train. Loss: 0.2964, Train. Acc.: 0.8894, Test Acc.: 0.8686\n",
      "* Epoch 3: Train. Loss: 0.2900, Train. Acc.: 0.8916, Test Acc.: 0.8725\n"
     ]
    }
   ],
   "source": [
    "# Continue training and obtaining canonical form after each epoch\n",
    "optimizer = torch.optim.Adam(mps.parameters(),\n",
    "                             lr=learn_rate,\n",
    "                             weight_decay=l2_reg)\n",
    "\n",
    "for epoch_num in range(1, num_epochs_canonical + 1):\n",
    "    running_train_loss = 0.0\n",
    "    running_train_acc = 0.0\n",
    "    \n",
    "    for inputs, labels in loaders[\"train\"]:\n",
    "        inputs = inputs.view(\n",
    "            [batch_size, d_phys, image_size[0] * image_size[1]]).permute(2, 0, 1)\n",
    "        labels = labels.data\n",
    "        inputs, labels = inputs.to(device), labels.to(device)\n",
    "\n",
    "        scores = mps(inputs)\n",
    "        _, preds = torch.max(scores, 1)\n",
    "\n",
    "        # Compute the loss and accuracy, add them to the running totals\n",
    "        loss = loss_fun(scores, labels)\n",
    "\n",
    "        with torch.no_grad():\n",
    "            accuracy = torch.sum(preds == labels).item() / batch_size\n",
    "            running_train_loss += loss\n",
    "            running_train_acc += accuracy\n",
    "\n",
    "        # Backpropagate and update parameters\n",
    "        optimizer.zero_grad()\n",
    "        loss.backward()\n",
    "        optimizer.step()\n",
    "    \n",
    "    with torch.no_grad():\n",
    "        running_test_acc = 0.0\n",
    "\n",
    "        for inputs, labels in loaders[\"test\"]:\n",
    "            inputs = inputs.view([\n",
    "                batch_size, d_phys, image_size[0] * image_size[1]]).permute(2, 0, 1)\n",
    "            labels = labels.data\n",
    "            inputs, labels = inputs.to(device), labels.to(device)\n",
    "\n",
    "            # Call our MPS to get logit scores and predictions\n",
    "            scores = mps(inputs)\n",
    "            _, preds = torch.max(scores, 1)\n",
    "            running_test_acc += torch.sum(preds == labels).item() / batch_size\n",
    "    \n",
    "    print(f'* Epoch {epoch_num}: '\n",
    "          f'Train. Loss: {running_train_loss / num_batches[\"train\"]:.4f}, '\n",
    "          f'Train. Acc.: {running_train_acc / num_batches[\"train\"]:.4f}, '\n",
    "          f'Test Acc.: {running_test_acc / num_batches[\"test\"]:.4f}')"
   ]
  }
 ],
 "metadata": {
  "kernelspec": {
   "display_name": "pytorch",
   "language": "python",
   "name": "python3"
  },
  "language_info": {
   "codemirror_mode": {
    "name": "ipython",
    "version": 3
   },
   "file_extension": ".py",
   "mimetype": "text/x-python",
   "name": "python",
   "nbconvert_exporter": "python",
   "pygments_lexer": "ipython3",
   "version": "3.8.15"
  },
  "orig_nbformat": 4,
  "vscode": {
   "interpreter": {
    "hash": "98819ef66e0fd8e26166ef23b2736d781c80dc7aa950207c762e497c21afbd1c"
   }
  }
 },
 "nbformat": 4,
 "nbformat_minor": 2
}
